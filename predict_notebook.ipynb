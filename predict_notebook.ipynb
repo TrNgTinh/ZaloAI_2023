{
 "cells": [
  {
   "cell_type": "code",
   "execution_count": 1,
   "id": "ecdb41ce",
   "metadata": {},
   "outputs": [
    {
     "name": "stderr",
     "output_type": "stream",
     "text": [
      "There was a problem when trying to write in your cache folder (/home/thangdq/.cache/huggingface/hub). You should set the environment variable TRANSFORMERS_CACHE to a writable directory.\n",
      "There was a problem when trying to write in your cache folder (/home/thangdq/.cache/huggingface/hub). Please, ensure the directory exists and can be written to.\n"
     ]
    }
   ],
   "source": [
    "from translate_info import build_faiss_index, embed_single_value, relatedness_fn, TranslatorProcessor\n",
    "import pandas as pd\n",
    "from pathlib import Path\n",
    "import sys\n",
    "from SD_Thang.sd import BackgroundGenerator"
   ]
  },
  {
   "cell_type": "code",
   "execution_count": null,
   "id": "5785a25b",
   "metadata": {},
   "outputs": [],
   "source": [
    "import csv\n",
    "def write_time_file(filename, data_list):\n",
    "    with open(filename, 'w', newline='', encoding='utf-8') as file:\n",
    "        writer = csv.writer(file)\n",
    "        writer.writerow(['fname', 'time'])\n",
    "        writer.writerows(data_list)\n",
    "\n",
    "    print(f'Dữ liệu đã được ghi thành công vào {filename}')"
   ]
  },
  {
   "cell_type": "code",
   "execution_count": 2,
   "id": "d156cb79",
   "metadata": {},
   "outputs": [],
   "source": [
    "input_csv_file = '/data/thangdq/SDXL/info.csv'\n",
    "output_csv_file = '/data/thangdq/SDXL/info_thuoc_en_phan_loai.csv'\n",
    "cate_file = '/data/thangdq/SDXL/loc.txt'\n"
   ]
  },
  {
   "cell_type": "code",
   "execution_count": 3,
   "id": "5eeaa357",
   "metadata": {},
   "outputs": [],
   "source": [
    "df = pd.read_csv(input_csv_file)\n"
   ]
  },
  {
   "cell_type": "code",
   "execution_count": 5,
   "id": "05d96696",
   "metadata": {},
   "outputs": [
    {
     "name": "stderr",
     "output_type": "stream",
     "text": [
      "Some weights of RobertaModel were not initialized from the model checkpoint at vinai/phobert-base-v2 and are newly initialized: ['roberta.pooler.dense.bias', 'roberta.pooler.dense.weight']\n",
      "You should probably TRAIN this model on a down-stream task to be able to use it for predictions and inference.\n"
     ]
    },
    {
     "data": {
      "application/vnd.jupyter.widget-view+json": {
       "model_id": "896b5b972a9044a09f9b9109ca3333bc",
       "version_major": 2,
       "version_minor": 0
      },
      "text/plain": [
       "Loading pipeline components...:   0%|          | 0/7 [00:00<?, ?it/s]"
      ]
     },
     "metadata": {},
     "output_type": "display_data"
    },
    {
     "name": "stdout",
     "output_type": "stream",
     "text": [
      "Loaded\n"
     ]
    },
    {
     "name": "stderr",
     "output_type": "stream",
     "text": [
      "/data/thangdq/SDXL/ZaloAI_2023/SD_Thang/sd.py:19: FutureWarning: Accessing config attribute `in_channels` directly via 'UNet2DConditionModel' object attribute is deprecated. Please access 'in_channels' over 'UNet2DConditionModel's config object instead, e.g. 'unet.config.in_channels'.\n",
      "  (1, self.pipe.unet.in_channels, height // 8, width // 8),\n"
     ]
    }
   ],
   "source": [
    "translator_processor = TranslatorProcessor(input_csv_file, cate_file)\n",
    "bg = BackgroundGenerator(output_directory=\"results/\")\n",
    "print(\"Loaded\")"
   ]
  },
  {
   "cell_type": "code",
   "execution_count": 6,
   "id": "cbe20492",
   "metadata": {},
   "outputs": [
    {
     "name": "stdout",
     "output_type": "stream",
     "text": [
      "Ưu đãi 30% khi đặt hàng ngay trong hôm nay.\n"
     ]
    },
    {
     "data": {
      "application/vnd.jupyter.widget-view+json": {
       "model_id": "d8b34f56e1324bbfa2fbf3c0c142cf7b",
       "version_major": 2,
       "version_minor": 0
      },
      "text/plain": [
       "  0%|          | 0/35 [00:00<?, ?it/s]"
      ]
     },
     "metadata": {},
     "output_type": "display_data"
    },
    {
     "name": "stdout",
     "output_type": "stream",
     "text": [
      "Dữ liệu đã được ghi thành công vào results/time_submission1.csv\n"
     ]
    }
   ],
   "source": [
    "# FOR SUBMISSION 1\n",
    "import time # bắt buộc dùng thư viện time để tính\n",
    "import csv\n",
    "all_predicted_time = []\n",
    "\n",
    "for i, row in df.iterrows():\n",
    "    t1 = time.time()\n",
    "\n",
    "    # ***************Start model prediction******************\n",
    "    row = translator_processor.categorical_row(row, cate_file, output_csv_file)\n",
    "    print(row['caption'])\n",
    "    bg.process_image_for_row(row, nb=\"jupyter_submission2/images/\")\n",
    "    # ***************End model prediction******************\n",
    "    t2 = time.time()\n",
    "    predicted_time = t2 - t1\n",
    "    all_predicted_time.append((row['bannerImage'], predicted_time))\n",
    "    break\n",
    "write_time_file(\"results/time_submission1.csv\", all_predicted_time)\n"
   ]
  },
  {
   "cell_type": "code",
   "execution_count": 7,
   "id": "2bd00456",
   "metadata": {},
   "outputs": [
    {
     "name": "stderr",
     "output_type": "stream",
     "text": [
      "Some weights of RobertaModel were not initialized from the model checkpoint at vinai/phobert-base-v2 and are newly initialized: ['roberta.pooler.dense.bias', 'roberta.pooler.dense.weight']\n",
      "You should probably TRAIN this model on a down-stream task to be able to use it for predictions and inference.\n"
     ]
    },
    {
     "data": {
      "application/vnd.jupyter.widget-view+json": {
       "model_id": "168c9f84914141238b35e324d4d97621",
       "version_major": 2,
       "version_minor": 0
      },
      "text/plain": [
       "Loading pipeline components...:   0%|          | 0/7 [00:00<?, ?it/s]"
      ]
     },
     "metadata": {},
     "output_type": "display_data"
    },
    {
     "name": "stdout",
     "output_type": "stream",
     "text": [
      "Loaded\n"
     ]
    },
    {
     "name": "stderr",
     "output_type": "stream",
     "text": [
      "/data/thangdq/SDXL/ZaloAI_2023/SD_Thang/sd.py:19: FutureWarning: Accessing config attribute `in_channels` directly via 'UNet2DConditionModel' object attribute is deprecated. Please access 'in_channels' over 'UNet2DConditionModel's config object instead, e.g. 'unet.config.in_channels'.\n",
      "  (1, self.pipe.unet.in_channels, height // 8, width // 8),\n"
     ]
    }
   ],
   "source": [
    "df = pd.read_csv(input_csv_file)\n",
    "translator_processor = TranslatorProcessor(input_csv_file, cate_file)\n",
    "bg = BackgroundGenerator(output_directory=\"results/\")\n",
    "print(\"Loaded\")"
   ]
  },
  {
   "cell_type": "code",
   "execution_count": 8,
   "id": "75530ca6",
   "metadata": {},
   "outputs": [
    {
     "name": "stdout",
     "output_type": "stream",
     "text": [
      "Ưu đãi 30% khi đặt hàng ngay trong hôm nay.\n"
     ]
    },
    {
     "data": {
      "application/vnd.jupyter.widget-view+json": {
       "model_id": "0a4c613c52dd45ebb187674805357dfa",
       "version_major": 2,
       "version_minor": 0
      },
      "text/plain": [
       "  0%|          | 0/35 [00:00<?, ?it/s]"
      ]
     },
     "metadata": {},
     "output_type": "display_data"
    },
    {
     "name": "stdout",
     "output_type": "stream",
     "text": [
      "Dữ liệu đã được ghi thành công vào results/time_submission2.csv\n"
     ]
    }
   ],
   "source": [
    "# FOR SUBMISSION 2\n",
    "import time # bắt buộc dùng thư viện time để tính\n",
    "import csv\n",
    "all_predicted_time = []\n",
    "for i, row in df.iterrows():\n",
    "    t1 = time.time()\n",
    "\n",
    "    # ***************Start model prediction******************\n",
    "    row = translator_processor.categorical_row(row, cate_file, output_csv_file) \n",
    "    bg.process_image_for_row(row, nb=\"jupyter_submission2/images/\")\n",
    "    # ***************End model prediction******************\n",
    "    t2 = time.time()\n",
    "    predicted_time = t2 - t1\n",
    "    all_predicted_time.append((row['bannerImage'], predicted_time))\n",
    "    break\n",
    "    \n",
    "write_time_file(\"results/time_submission2.csv\", all_predicted_time)\n"
   ]
  }
 ],
 "metadata": {
  "kernelspec": {
   "display_name": "zac",
   "language": "python",
   "name": "zac"
  },
  "language_info": {
   "codemirror_mode": {
    "name": "ipython",
    "version": 3
   },
   "file_extension": ".py",
   "mimetype": "text/x-python",
   "name": "python",
   "nbconvert_exporter": "python",
   "pygments_lexer": "ipython3",
   "version": "3.8.10"
  }
 },
 "nbformat": 4,
 "nbformat_minor": 5
}
